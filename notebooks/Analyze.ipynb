{
 "cells": [
  {
   "cell_type": "code",
   "execution_count": null,
   "id": "8d9a6a24-7b28-4e58-b844-b7c3021572ab",
   "metadata": {},
   "outputs": [],
   "source": [
    "from datasets import Dataset\n",
    "from transformers import (\n",
    "    AutoModelForSequenceClassification,\n",
    "    AutoTokenizer,\n",
    "    DataCollatorWithPadding,\n",
    "    PreTrainedModel,\n",
    "    PreTrainedTokenizer,\n",
    "    Trainer,\n",
    "    TrainingArguments \n",
    ")\n",
    "import torch"
   ]
  },
  {
   "cell_type": "code",
   "execution_count": null,
   "id": "81ffcdf1-7d15-47c7-8216-379da8db7723",
   "metadata": {},
   "outputs": [],
   "source": [
    "def preprocess_func(text: str) -> str:\n",
    "    return text"
   ]
  },
  {
   "cell_type": "code",
   "execution_count": null,
   "id": "633174b4-c006-4e58-b45b-d39b78cfc875",
   "metadata": {},
   "outputs": [],
   "source": [
    "model = AutoModelForSequenceClassification.from_pretrained(\"pysentimiento/robertuito-sentiment-analysis\")\n",
    "tokenizer = AutoTokenizer.from_pretrained(\n",
    "    \"pysentimiento/robertuito-sentiment-analysis\",\n",
    ")\n",
    "eval_trainer = Trainer(\n",
    "    model=model,\n",
    "    args=TrainingArguments(\n",
    "        output_dir=\"../data\",\n",
    "        per_device_eval_batch_size=32\n",
    "    ),\n",
    "    data_collator=DataCollatorWithPadding(tokenizer, padding=\"longest\"),\n",
    ")"
   ]
  },
  {
   "cell_type": "code",
   "execution_count": null,
   "id": "483a5e29-6386-4d73-b432-5dbc699b8351",
   "metadata": {},
   "outputs": [],
   "source": [
    "raw_inputs = [\n",
    "    \"I think it's getting a lot of traction.\",\n",
    "    \"Reminds me of cosmos sdk revolution we had 😅\",\n",
    "    \"Zora, PGN\"\n",
    "]\n",
    "data = {\n",
    "    \"text\": [preprocess_func(sent) for sent in raw_inputs]\n",
    "}\n",
    "\n",
    "def tokenize(batch):\n",
    "    # If context is present, use it\n",
    "    if \"context\" in batch:\n",
    "        inputs = [batch[\"text\"], batch[\"context\"]]\n",
    "    else:\n",
    "        inputs = [batch[\"text\"]]\n",
    "    return tokenizer(\n",
    "        *inputs, padding=False, truncation=True,\n",
    "        max_length=tokenizer.model_max_length\n",
    "    )\n",
    "\n",
    "dataset = Dataset.from_dict(data)\n",
    "dataset = dataset.map(tokenize, batched=True, batch_size=32)"
   ]
  },
  {
   "cell_type": "code",
   "execution_count": null,
   "id": "ca8002f8",
   "metadata": {},
   "outputs": [],
   "source": [
    "output = eval_trainer.predict(dataset)\n",
    "logits = torch.tensor(output.predictions)\n",
    "output, logits"
   ]
  },
  {
   "cell_type": "code",
   "execution_count": null,
   "id": "86f5c546",
   "metadata": {},
   "outputs": [],
   "source": [
    "probs = torch.softmax(logits, dim=1).view(-1)\n",
    "probs"
   ]
  },
  {
   "cell_type": "code",
   "execution_count": null,
   "id": "610516d9",
   "metadata": {},
   "outputs": [],
   "source": [
    "id2label = model.config.id2label\n",
    "probas = {id2label[i]: probs[i].item() for i in id2label}\n",
    "probas"
   ]
  },
  {
   "cell_type": "code",
   "execution_count": 1,
   "id": "6c6244cc",
   "metadata": {},
   "outputs": [
    {
     "name": "stderr",
     "output_type": "stream",
     "text": [
      "/Users/michaelhly/Projects/farsentimiento/.venv/lib/python3.9/site-packages/tqdm/auto.py:21: TqdmWarning: IProgress not found. Please update jupyter and ipywidgets. See https://ipywidgets.readthedocs.io/en/stable/user_install.html\n",
      "  from .autonotebook import tqdm as notebook_tqdm\n"
     ]
    },
    {
     "ename": "ImportError",
     "evalue": "cannot import name 'CastAnalyzer' from 'farglot.analyzer' (/Users/michaelhly/Projects/farsentimiento/.venv/lib/python3.9/site-packages/farglot/analyzer.py)",
     "output_type": "error",
     "traceback": [
      "\u001b[0;31m---------------------------------------------------------------------------\u001b[0m",
      "\u001b[0;31mImportError\u001b[0m                               Traceback (most recent call last)",
      "Cell \u001b[0;32mIn[1], line 1\u001b[0m\n\u001b[0;32m----> 1\u001b[0m \u001b[38;5;28;01mfrom\u001b[39;00m \u001b[38;5;21;01mfarglot\u001b[39;00m\u001b[38;5;21;01m.\u001b[39;00m\u001b[38;5;21;01manalyzer\u001b[39;00m \u001b[38;5;28;01mimport\u001b[39;00m AnalyzerForSequenceClassification, CastAnalyzer\n\u001b[1;32m      3\u001b[0m analyzer \u001b[38;5;241m=\u001b[39m AnalyzerForSequenceClassification\u001b[38;5;241m.\u001b[39mfrom_model_name(\u001b[38;5;124m\"\u001b[39m\u001b[38;5;124mpysentimiento/robertuito-sentiment-analysis\u001b[39m\u001b[38;5;124m\"\u001b[39m)\n",
      "\u001b[0;31mImportError\u001b[0m: cannot import name 'CastAnalyzer' from 'farglot.analyzer' (/Users/michaelhly/Projects/farsentimiento/.venv/lib/python3.9/site-packages/farglot/analyzer.py)"
     ]
    }
   ],
   "source": [
    "from farglot.analyzer import AnalyzerForSequenceClassification, CastAnalyzer\n",
    "\n",
    "analyzer = AnalyzerForSequenceClassification.from_model_name(\"pysentimiento/robertuito-sentiment-analysis\")"
   ]
  },
  {
   "cell_type": "code",
   "execution_count": null,
   "id": "fb754ae4",
   "metadata": {},
   "outputs": [],
   "source": [
    "inputs = [\n",
    "    \"I think it's getting a lot of traction.\",\n",
    "    \"Reminds me of cosmos sdk revolution we had 😅\",\n",
    "    \"Zora, PGN\"\n",
    "]\n",
    "probas = analyzer.predict(inputs)\n",
    "probas"
   ]
  },
  {
   "cell_type": "code",
   "execution_count": 2,
   "id": "9924fb82",
   "metadata": {},
   "outputs": [],
   "source": [
    "from farglot.cast_analyzer import CastAnalyzer"
   ]
  },
  {
   "cell_type": "code",
   "execution_count": 4,
   "id": "507c7208",
   "metadata": {},
   "outputs": [
    {
     "name": "stderr",
     "output_type": "stream",
     "text": [
      "Map: 100%|█████████████████████████████████████████████████████████████████████████████████████████████████████████████████████████| 1/1 [00:00<00:00, 149.01 examples/s]\n",
      "You're using a PreTrainedTokenizerFast tokenizer. Please note that with a fast tokenizer, using the `__call__` method is faster than using a method to encode the text followed by a call to the `pad` method to get a padded encoding.\n"
     ]
    },
    {
     "data": {
      "text/html": [],
      "text/plain": [
       "<IPython.core.display.HTML object>"
      ]
     },
     "metadata": {},
     "output_type": "display_data"
    },
    {
     "data": {
      "text/plain": [
       "{'NEG': 0.051998768001794815,\n",
       " 'NEU': 0.22470703721046448,\n",
       " 'POS': 0.7232941389083862}"
      ]
     },
     "execution_count": 4,
     "metadata": {},
     "output_type": "execute_result"
    }
   ],
   "source": [
    "sentiment_analyzer=CastAnalyzer.sequence_analzyer_from_model_name(\n",
    "    hub_address=\"nemes.farcaster.xyz:2283\",\n",
    "    model_name=\"pysentimiento/robertuito-sentiment-analysis\"\n",
    ")\n",
    "sentiment_analyzer.predict_cast(fid=2, hash_hex=\"0bcdcbf006ec22b79f37f2cf2a09c33413883937\")"
   ]
  },
  {
   "cell_type": "code",
   "execution_count": 5,
   "id": "ce7690cb",
   "metadata": {},
   "outputs": [
    {
     "name": "stderr",
     "output_type": "stream",
     "text": [
      "Map: 100%|█████████████████████████████████████████████████████████████████████████████████████████████████████████████████| 3894/3894 [00:00<00:00, 30235.51 examples/s]\n"
     ]
    },
    {
     "data": {
      "text/html": [],
      "text/plain": [
       "<IPython.core.display.HTML object>"
      ]
     },
     "metadata": {},
     "output_type": "display_data"
    },
    {
     "data": {
      "text/plain": [
       "{'NEG': 0.03734538331627846,\n",
       " 'NEU': 0.505352795124054,\n",
       " 'POS': 0.4573018550872803}"
      ]
     },
     "execution_count": 5,
     "metadata": {},
     "output_type": "execute_result"
    }
   ],
   "source": [
    "sentiment_analyzer.predict_casts_by_fid(fid=2)"
   ]
  },
  {
   "cell_type": "code",
   "execution_count": null,
   "id": "8c42f194",
   "metadata": {},
   "outputs": [],
   "source": []
  }
 ],
 "metadata": {
  "kernelspec": {
   "display_name": "farglot",
   "language": "python",
   "name": "farglot"
  },
  "language_info": {
   "codemirror_mode": {
    "name": "ipython",
    "version": 3
   },
   "file_extension": ".py",
   "mimetype": "text/x-python",
   "name": "python",
   "nbconvert_exporter": "python",
   "pygments_lexer": "ipython3",
   "version": "3.9.6"
  }
 },
 "nbformat": 4,
 "nbformat_minor": 5
}
