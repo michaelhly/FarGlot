{
 "cells": [
  {
   "cell_type": "code",
   "execution_count": null,
   "id": "8d9a6a24-7b28-4e58-b844-b7c3021572ab",
   "metadata": {},
   "outputs": [],
   "source": [
    "from datasets import Dataset\n",
    "from transformers import (\n",
    "    AutoModelForSequenceClassification,\n",
    "    AutoTokenizer,\n",
    "    DataCollatorWithPadding,\n",
    "    PreTrainedModel,\n",
    "    PreTrainedTokenizer,\n",
    "    Trainer,\n",
    "    TrainingArguments \n",
    ")\n",
    "import torch"
   ]
  },
  {
   "cell_type": "code",
   "execution_count": null,
   "id": "81ffcdf1-7d15-47c7-8216-379da8db7723",
   "metadata": {},
   "outputs": [],
   "source": [
    "def preprocess_func(text: str) -> str:\n",
    "    return text"
   ]
  },
  {
   "cell_type": "code",
   "execution_count": null,
   "id": "633174b4-c006-4e58-b45b-d39b78cfc875",
   "metadata": {},
   "outputs": [],
   "source": [
    "model = AutoModelForSequenceClassification.from_pretrained(\"pysentimiento/robertuito-sentiment-analysis\")\n",
    "tokenizer = AutoTokenizer.from_pretrained(\n",
    "    \"pysentimiento/robertuito-sentiment-analysis\",\n",
    ")\n",
    "eval_trainer = Trainer(\n",
    "    model=model,\n",
    "    args=TrainingArguments(\n",
    "        output_dir=\"../data\",\n",
    "        per_device_eval_batch_size=32\n",
    "    ),\n",
    "    data_collator=DataCollatorWithPadding(tokenizer, padding=\"longest\"),\n",
    ")"
   ]
  },
  {
   "cell_type": "code",
   "execution_count": null,
   "id": "483a5e29-6386-4d73-b432-5dbc699b8351",
   "metadata": {},
   "outputs": [],
   "source": [
    "raw_inputs = [\n",
    "    \"I think it's getting a lot of traction.\",\n",
    "    \"Reminds me of cosmos sdk revolution we had 😅\",\n",
    "    \"Zora, PGN\"\n",
    "]\n",
    "data = {\n",
    "    \"text\": [preprocess_func(sent) for sent in raw_inputs]\n",
    "}\n",
    "\n",
    "def tokenize(batch):\n",
    "    # If context is present, use it\n",
    "    if \"context\" in batch:\n",
    "        inputs = [batch[\"text\"], batch[\"context\"]]\n",
    "    else:\n",
    "        inputs = [batch[\"text\"]]\n",
    "    return tokenizer(\n",
    "        *inputs, padding=False, truncation=True,\n",
    "        max_length=tokenizer.model_max_length\n",
    "    )\n",
    "\n",
    "dataset = Dataset.from_dict(data)\n",
    "dataset = dataset.map(tokenize, batched=True, batch_size=32)"
   ]
  },
  {
   "cell_type": "code",
   "execution_count": null,
   "id": "ca8002f8",
   "metadata": {},
   "outputs": [],
   "source": [
    "output = eval_trainer.predict(dataset)\n",
    "logits = torch.tensor(output.predictions)\n",
    "output, logits"
   ]
  },
  {
   "cell_type": "code",
   "execution_count": null,
   "id": "86f5c546",
   "metadata": {},
   "outputs": [],
   "source": [
    "probs = torch.softmax(logits, dim=1).view(-1)\n",
    "probs"
   ]
  },
  {
   "cell_type": "code",
   "execution_count": null,
   "id": "610516d9",
   "metadata": {},
   "outputs": [],
   "source": [
    "id2label = model.config.id2label\n",
    "probas = {id2label[i]: probs[i].item() for i in id2label}\n",
    "probas"
   ]
  },
  {
   "cell_type": "code",
   "execution_count": null,
   "id": "6c6244cc",
   "metadata": {},
   "outputs": [],
   "source": [
    "from farglot.analyzer import AnalyzerForSequenceClassification\n",
    "\n",
    "analyzer = AnalyzerForSequenceClassification.from_model_name(\"pysentimiento/robertuito-sentiment-analysis\")"
   ]
  },
  {
   "cell_type": "code",
   "execution_count": null,
   "id": "fb754ae4",
   "metadata": {},
   "outputs": [],
   "source": [
    "inputs = [\n",
    "    \"I think it's getting a lot of traction.\",\n",
    "    \"Reminds me of cosmos sdk revolution we had 😅\",\n",
    "    \"Zora, PGN\"\n",
    "]\n",
    "probas = analyzer.predict(inputs)\n",
    "probas"
   ]
  },
  {
   "cell_type": "code",
   "execution_count": null,
   "id": "9924fb82",
   "metadata": {},
   "outputs": [],
   "source": []
  }
 ],
 "metadata": {
  "kernelspec": {
   "display_name": "farglot",
   "language": "python",
   "name": "farglot"
  },
  "language_info": {
   "codemirror_mode": {
    "name": "ipython",
    "version": 3
   },
   "file_extension": ".py",
   "mimetype": "text/x-python",
   "name": "python",
   "nbconvert_exporter": "python",
   "pygments_lexer": "ipython3",
   "version": "3.9.6"
  }
 },
 "nbformat": 4,
 "nbformat_minor": 5
}
